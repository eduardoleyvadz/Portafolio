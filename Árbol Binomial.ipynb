{
  "nbformat": 4,
  "nbformat_minor": 0,
  "metadata": {
    "colab": {
      "provenance": []
    },
    "kernelspec": {
      "name": "python3",
      "display_name": "Python 3"
    },
    "language_info": {
      "name": "python"
    }
  },
  "cells": [
    {
      "cell_type": "markdown",
      "source": [
        "# **ÁRBOL BINOMIAL**\n",
        "# *Eduardo Tomás Leyva Díaz*\n"
      ],
      "metadata": {
        "id": "GLpHRVUcUHME"
      }
    },
    {
      "cell_type": "markdown",
      "source": [
        "## **Modelo Determinista**"
      ],
      "metadata": {
        "id": "jRbLMsHCaKj6"
      }
    },
    {
      "cell_type": "markdown",
      "source": [
        "Se importan los datos de los precios de CEMEX y también se establecen los valores de precio spot, precio strike, step, volatilidad, tasa libre de riesgo.\n",
        "\n",
        "Además, se calculan los valores de u, d y p que se utilizarán para hallar el precio de la prima."
      ],
      "metadata": {
        "id": "M3hctUKJaRS3"
      }
    },
    {
      "cell_type": "code",
      "source": [
        "import yfinance as yf\n",
        "import pandas as pd\n",
        "import numpy as np\n",
        "\n",
        "# PRECIOS\n",
        "datos = \"CEMEXCPO.MX\"\n",
        "accion = yf.download(datos, start=\"2022-03-01\", end=\"2024-03-02\")\n",
        "accion['Rendimientos'] = accion['Close'].pct_change()  # rendimientos discretos\n",
        "\n",
        "# INPUTS\n",
        "s0 = accion['Close'].iloc[-1]  # Último Precio Conocido\n",
        "k = 15\n",
        "step = 1/12\n",
        "sigma = accion['Rendimientos'].std() * np.sqrt(252)\n",
        "\n",
        "r = 0.1025\n",
        "\n",
        "# Variables del Modelo\n",
        "u = np.exp(+sigma * np.sqrt(step))\n",
        "d = np.exp(-sigma * np.sqrt(step))\n",
        "p = (np.exp(+r * step) - d) / (u - d)\n",
        "q = 1 - p\n",
        "\n"
      ],
      "metadata": {
        "colab": {
          "base_uri": "https://localhost:8080/"
        },
        "id": "IqWTrnJr2eWh",
        "outputId": "00953662-2b9d-4432-8c02-f35dedb13253"
      },
      "execution_count": null,
      "outputs": [
        {
          "output_type": "stream",
          "name": "stderr",
          "text": [
            "\r[*********************100%***********************]  1 of 1 completed\n"
          ]
        }
      ]
    },
    {
      "cell_type": "markdown",
      "source": [
        "Luego, se genera un vector con los precios al final del periodo, los cuales van a variar dependiendo el número de veces que subió o bajó.\n",
        "\n",
        "Adicionalmente, las ganancias potenciales se calculan restando estos precios con el valor **K** que se fijó como precio strike, y esto se realiza para la opción call y la opción put."
      ],
      "metadata": {
        "id": "6kkaIy3sanWv"
      }
    },
    {
      "cell_type": "code",
      "source": [
        "# PRECIOS\n",
        "periodos = 10\n",
        "s = [s0 * (u**(periodos-i)) * (d**(i)) for i in range(periodos + 1)]\n",
        "\n",
        "# GANANCIAS POTENCIALES\n",
        "gcall = [max(s[i] - k, 0) for i in range(periodos + 1)]\n",
        "gput = [max(k - s[i], 0) for i in range(periodos + 1)]\n",
        "\n",
        "print(s)\n",
        "print(gcall)\n",
        "print(gput)\n"
      ],
      "metadata": {
        "colab": {
          "base_uri": "https://localhost:8080/"
        },
        "id": "Q1G6HadtSNjj",
        "outputId": "a4fb58c8-e479-4d30-d9e6-c864e18fa60c"
      },
      "execution_count": null,
      "outputs": [
        {
          "output_type": "stream",
          "name": "stdout",
          "text": [
            "[38.54523821892811, 31.179765377399317, 25.2217346139599, 20.40220281446142, 16.50361825042868, 13.350000381469725, 10.798996164408521, 8.735454294127235, 7.066227319932148, 5.715967007064989, 4.62372314766817]\n",
            "[23.545238218928112, 16.179765377399317, 10.2217346139599, 5.402202814461418, 1.50361825042868, 0, 0, 0, 0, 0, 0]\n",
            "[0, 0, 0, 0, 0, 1.6499996185302752, 4.201003835591479, 6.264545705872765, 7.933772680067852, 9.28403299293501, 10.37627685233183]\n"
          ]
        }
      ]
    },
    {
      "cell_type": "markdown",
      "source": [
        "Después, se obtiene el valor esperado de las ganancias potenciales, por lo que se usarán las probabilidades que vienen de una distribución binomial.\n",
        "\n",
        "Finalmente, solo se trae a valor presente esta esperanza usando el step y la tasa libre de riesgo."
      ],
      "metadata": {
        "id": "1m3wGVQbbJ4m"
      }
    },
    {
      "cell_type": "code",
      "source": [
        "from scipy.stats import binom\n",
        "\n",
        "# PROBABILIDADES\n",
        "# Va de subir 10 veces a subir 0 veces\n",
        "proba = [binom.pmf(periodos- k, periodos, p) for k in range(periodos + 1)]\n",
        "\n",
        "# PRIMA CALL\n",
        "primacall = sum(gcall[i] * proba[i] for i in range(periodos + 1)) * np.exp(-r * step * periodos)\n",
        "print(\"Prima Call:\", primacall)\n",
        "\n",
        "# PRIMA PUT\n",
        "primaput = sum(gput[i] * proba[i] for i in range(periodos + 1)) * np.exp(-r * step * periodos)\n",
        "print(\"Prima Put:\", primaput)\n"
      ],
      "metadata": {
        "colab": {
          "base_uri": "https://localhost:8080/"
        },
        "id": "nq0mfME5ZoyV",
        "outputId": "4c92aa4d-8cbc-4978-ea07-a19fbffe25e0"
      },
      "execution_count": null,
      "outputs": [
        {
          "output_type": "stream",
          "name": "stdout",
          "text": [
            "Prima Call: 1.6388672918048475\n",
            "Prima Put: 2.0608116703929173\n"
          ]
        }
      ]
    },
    {
      "cell_type": "markdown",
      "source": [
        "## **Simulación Montecarlo**"
      ],
      "metadata": {
        "id": "mTqbnIUFZ4a7"
      }
    },
    {
      "cell_type": "markdown",
      "source": [
        "Para este caso, primero se creó una función que recibe como argumento el número de periodos y una probabilidad de que el precio suba. Lo que hace es que simula si el precio sube a partir de un número aleatorio y contabiliza las veces que lo hace en ese número de periodos"
      ],
      "metadata": {
        "id": "Me22VTJabnHt"
      }
    },
    {
      "cell_type": "code",
      "source": [
        "# FUNCIÓN\n",
        "def sube(periodos, proba):\n",
        "    contador = 0\n",
        "    for j in range(periodos):\n",
        "        u = np.random.uniform(0, 1)\n",
        "        if u < proba:\n",
        "            contador += 1  # subió\n",
        "    return contador"
      ],
      "metadata": {
        "id": "7lkW399wZsiL"
      },
      "execution_count": null,
      "outputs": []
    },
    {
      "cell_type": "markdown",
      "source": [
        "Después, en cada simulación se ejecuta la función creada anteriormente y sólo se le asigna la ganancia obtenida dependiendo las veces que sunbió o bajó el precio traida a valor presente. Cada resultado se va guardando en un vector y el valor final de la prima será el promedio de este vector."
      ],
      "metadata": {
        "id": "fHVE09pycC_-"
      }
    },
    {
      "cell_type": "markdown",
      "source": [
        "**10 simulaciones**"
      ],
      "metadata": {
        "id": "HRt9IaTW3BcZ"
      }
    },
    {
      "cell_type": "code",
      "source": [
        "# PRIMA CALL\n",
        "n = 10  # simulaciones\n",
        "primacall = []\n",
        "\n",
        "for _ in range(n):\n",
        "    resultado = sube(periodos, p)\n",
        "    primacall.append(gcall[10 - resultado] * np.exp(-r * step * periodos))\n",
        "\n",
        "print(\"Prima Call Promedio:\", np.mean(primacall))\n",
        "\n",
        "# PRIMA PUT\n",
        "primaput = []\n",
        "\n",
        "for _ in range(n):\n",
        "    resultado = sube(periodos, p)\n",
        "    primaput.append(gput[10 - resultado] * np.exp(-r * step * periodos))\n",
        "\n",
        "print(\"Prima Put Promedio:\", np.mean(primaput))\n"
      ],
      "metadata": {
        "colab": {
          "base_uri": "https://localhost:8080/"
        },
        "id": "hB-dNYmSRLsd",
        "outputId": "48ddb6af-bddf-4f2b-cb6b-b454dffeff07"
      },
      "execution_count": null,
      "outputs": [
        {
          "output_type": "stream",
          "name": "stdout",
          "text": [
            "Prima Call Promedio: 0.2761032998015804\n",
            "Prima Put Promedio: 0.3029827146735385\n"
          ]
        }
      ]
    },
    {
      "cell_type": "markdown",
      "source": [
        "**100 simulaciones**"
      ],
      "metadata": {
        "id": "GOOLozMf3HAr"
      }
    },
    {
      "cell_type": "code",
      "source": [
        "# PRIMA CALL\n",
        "n = 100  # simulaciones\n",
        "primacall = []\n",
        "\n",
        "for _ in range(n):\n",
        "    resultado = sube(periodos, p)\n",
        "    primacall.append(gcall[10 - resultado] * np.exp(-r * step * periodos))\n",
        "\n",
        "print(\"Prima Call Promedio:\", np.mean(primacall))\n",
        "\n",
        "# PRIMA PUT\n",
        "primaput = []\n",
        "\n",
        "for _ in range(n):\n",
        "    resultado = sube(periodos, p)\n",
        "    primaput.append(gput[10 - resultado] * np.exp(-r * step * periodos))\n",
        "\n",
        "print(\"Prima Put Promedio:\", np.mean(primaput))\n"
      ],
      "metadata": {
        "colab": {
          "base_uri": "https://localhost:8080/"
        },
        "id": "vsHW_UJM3JO9",
        "outputId": "954fdf30-7d62-4725-9784-e1b2fd14c71b"
      },
      "execution_count": null,
      "outputs": [
        {
          "output_type": "stream",
          "name": "stdout",
          "text": [
            "Prima Call Promedio: 1.74805635323589\n",
            "Prima Put Promedio: 1.8952695254589507\n"
          ]
        }
      ]
    },
    {
      "cell_type": "markdown",
      "source": [
        "**1,000 simulaciones**"
      ],
      "metadata": {
        "id": "F7U0h5OG3JxA"
      }
    },
    {
      "cell_type": "code",
      "source": [
        "# PRIMA CALL\n",
        "n = 1000  # simulaciones\n",
        "primacall = []\n",
        "\n",
        "for _ in range(n):\n",
        "    resultado = sube(periodos, p)\n",
        "    primacall.append(gcall[10 - resultado] * np.exp(-r * step * periodos))\n",
        "\n",
        "print(\"Prima Call Promedio:\", np.mean(primacall))\n",
        "\n",
        "# PRIMA PUT\n",
        "primaput = []\n",
        "\n",
        "for _ in range(n):\n",
        "    resultado = sube(periodos, p)\n",
        "    primaput.append(gput[10 - resultado] * np.exp(-r * step * periodos))\n",
        "\n",
        "print(\"Prima Put Promedio:\", np.mean(primaput))\n"
      ],
      "metadata": {
        "colab": {
          "base_uri": "https://localhost:8080/"
        },
        "id": "OabsgcpT3OK8",
        "outputId": "371ff7dc-f13c-40bb-b7b2-6292930a34fb"
      },
      "execution_count": null,
      "outputs": [
        {
          "output_type": "stream",
          "name": "stdout",
          "text": [
            "Prima Call Promedio: 1.6137068025706958\n",
            "Prima Put Promedio: 2.195397679751014\n"
          ]
        }
      ]
    },
    {
      "cell_type": "markdown",
      "source": [
        "**10,000 simulaciones**"
      ],
      "metadata": {
        "id": "ATNWgsFb3Ocb"
      }
    },
    {
      "cell_type": "code",
      "source": [
        "# PRIMA CALL\n",
        "n = 10000  # simulaciones\n",
        "primacall = []\n",
        "\n",
        "for _ in range(n):\n",
        "    resultado = sube(periodos, p)\n",
        "    primacall.append(gcall[10 - resultado] * np.exp(-r * step * periodos))\n",
        "\n",
        "print(\"Prima Call Promedio:\", np.mean(primacall))\n",
        "\n",
        "# PRIMA PUT\n",
        "primaput = []\n",
        "\n",
        "for _ in range(n):\n",
        "    resultado = sube(periodos, p)\n",
        "    primaput.append(gput[10 - resultado] * np.exp(-r * step * periodos))\n",
        "\n",
        "print(\"Prima Put Promedio:\", np.mean(primaput))\n"
      ],
      "metadata": {
        "colab": {
          "base_uri": "https://localhost:8080/"
        },
        "id": "ZY2JMDKM3SXb",
        "outputId": "87c750c7-50f7-49a8-c2f0-9fce3040dec4"
      },
      "execution_count": null,
      "outputs": [
        {
          "output_type": "stream",
          "name": "stdout",
          "text": [
            "Prima Call Promedio: 1.6245500399174386\n",
            "Prima Put Promedio: 2.0480504726141064\n"
          ]
        }
      ]
    }
  ]
}